{
  "nbformat": 4,
  "nbformat_minor": 0,
  "metadata": {
    "colab": {
      "name": "practice1.ipynb",
      "provenance": []
    },
    "kernelspec": {
      "name": "python3",
      "display_name": "Python 3"
    },
    "language_info": {
      "name": "python"
    }
  },
  "cells": [
    {
      "cell_type": "code",
      "execution_count": null,
      "metadata": {
        "id": "o0Vjdj5UpG9z"
      },
      "outputs": [],
      "source": [
        "Customers with Specific Brands\n",
        "\n",
        "\n",
        "# Import your libraries\n",
        "\n",
        "import pandas as pd\n",
        "\n",
        "# Start writing code\n",
        "df=facebook_products\n",
        "#print(df[['brand_name', 'product_id']])\n",
        "\n",
        "df = df.loc[(df['brand_name'] == 'Fort West')   | (df['brand_name'] == 'Golden')] \n",
        "\n",
        "df['product_id']\n",
        "\n",
        "dfi = facebook_sales\n",
        "\n",
        "for id in df['product_id']\n",
        "print(id)\n",
        "\n"
      ]
    }
  ]
}