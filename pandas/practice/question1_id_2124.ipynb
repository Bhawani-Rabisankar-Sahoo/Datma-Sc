{
  "nbformat": 4,
  "nbformat_minor": 0,
  "metadata": {
    "colab": {
      "name": "practice1.ipynb",
      "provenance": [],
      "collapsed_sections": []
    },
    "kernelspec": {
      "name": "python3",
      "display_name": "Python 3"
    },
    "language_info": {
      "name": "python"
    }
  },
  "cells": [
    {
      "cell_type": "markdown",
      "source": [
        "# Top Two Media Types"
      ],
      "metadata": {
        "id": "Ta5VNvjWGmpa"
      }
    },
    {
      "cell_type": "code",
      "execution_count": null,
      "metadata": {
        "id": "o0Vjdj5UpG9z"
      },
      "outputs": [],
      "source": [
        "# Import your libraries\n",
        "import pandas as pd\n",
        "\n",
        "# Start writing code\n",
        "df = facebook_sales_promotions\n",
        "\n",
        "df =df[['media_type' ,'cost']]\n",
        "\n",
        "df =df.sort_values('cost', ascending = False)\n",
        "\n",
        "n=0\n",
        "for x in df['media_type'].unique():\n",
        "    \n",
        "    n=n+1\n",
        "    print(n)\n",
        "    \n",
        "    \n",
        "    df.iloc[n-1,1] = df.loc[df['media_type']== x,'cost'].sum()\n",
        "    \n",
        "    #df['cost'] = df['cost'].replace(['14000'],df.loc[df['media_type']== x,'cost'].sum())\n",
        "    \n",
        "    #df.loc[x, ['cost']] = df.loc[df['media_type']== x,'cost'].sum()\n",
        "    #df['cost'] = df.loc[df['media_type']== x,'cost'].sum()\n",
        "    \n",
        "    #if x = df['media_type']:\n",
        "        #df['cost'] = df.loc[df['media_type']== x,'cost'].sum()\n",
        "    #df['media_type'].replace(n,x)\n",
        "    #print(x)\n",
        "    #print(df.loc[df['media_type']== x,'cost'].sum())\n",
        "    #df['new_media']=x\n",
        "    #df['new_cost'] =df.loc[df['media_type']== x,'cost'].sum()\n",
        "    #df['new_m']=df.iloc[n,0]=x\n",
        "    #df['new_c']=df.iloc[n,1]=df.loc[df['media_type']== x,'cost'].sum()\n",
        "   \n",
        "df = df.drop_duplicates(subset = 'media_type')\n",
        "df.sort_values('cost',ascending = False)\n",
        "#df.drop_duplicates(['new_media'])\n",
        "    \n",
        "\n",
        "#df.loc[df['media_type']== 'Broadcast','cost'].sum()\n",
        "\n",
        "#for x in df['media_type']:\n",
        "#    if\n"
      ]
    }
  ]
}