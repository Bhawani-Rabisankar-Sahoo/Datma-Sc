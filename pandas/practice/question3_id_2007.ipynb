{
  "nbformat": 4,
  "nbformat_minor": 0,
  "metadata": {
    "colab": {
      "name": "practice1.ipynb",
      "provenance": [],
      "collapsed_sections": []
    },
    "kernelspec": {
      "name": "python3",
      "display_name": "Python 3"
    },
    "language_info": {
      "name": "python"
    }
  },
  "cells": [
    {
      "cell_type": "markdown",
      "source": [
        "# Rank Variance Per Country ,ID 2007\n"
      ],
      "metadata": {
        "id": "Ta5VNvjWGmpa"
      }
    },
    {
      "cell_type": "code",
      "execution_count": null,
      "metadata": {
        "id": "o0Vjdj5UpG9z"
      },
      "outputs": [],
      "source": [
        "\n",
        "import pandas as pd\n",
        "\n",
        "\n",
        "df =fb_comments_count\n",
        "dfi=fb_active_users\n",
        "df.sort_values(['created_at'])\n",
        "df = df.loc[(df['created_at']<'2020/01/31') & (df['created_at']>'2019/12/01' )]\n",
        "\n",
        "n=0\n",
        "\n",
        "for x in df['user_id'].unique():\n",
        "    \n",
        "    df.at[n,'sum']=df.loc[df['user_id']==x ,'number_of_comments'].sum()\n",
        "    \n",
        "    n=n+1\n",
        "\n",
        "df =df.drop_duplicates(subset = ['user_id'])\n",
        "df = df.dropna()\n",
        "df.sort_values('user_id')\n",
        "m=0\n",
        "dfi=dfi.drop(columns=['name','status'])\n",
        "   \n",
        "df=df.merge(dfi ,how='inner',on='user_id')\n",
        "\n",
        "for x in df['country']:\n",
        "    df.at[m,'sum']=df.loc[df['country']==x , 'sum'].sum()\n",
        "    \n",
        "    m=m+1\n",
        "df=df.drop_duplicates(subset = 'country')\n",
        "df=df.drop(columns = ['user_id','created_at','number_of_comments'])\n",
        "df=df.sort_values('sum',ascending = False)\n",
        "\n",
        "\n",
        "\n",
        "\n",
        "\n",
        "    \n",
        "\n",
        "\n"
      ]
    }
  ]
}