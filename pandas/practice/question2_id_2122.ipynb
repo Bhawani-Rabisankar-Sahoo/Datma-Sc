{
  "nbformat": 4,
  "nbformat_minor": 0,
  "metadata": {
    "colab": {
      "name": "practice1.ipynb",
      "provenance": [],
      "collapsed_sections": []
    },
    "kernelspec": {
      "name": "python3",
      "display_name": "Python 3"
    },
    "language_info": {
      "name": "python"
    }
  },
  "cells": [
    {
      "cell_type": "code",
      "execution_count": null,
      "metadata": {
        "id": "o0Vjdj5UpG9z"
      },
      "outputs": [],
      "source": [
        "\n"
      ]
    },
    {
      "cell_type": "code",
      "source": [
        "Products Never Sold\n",
        "\n",
        "\n",
        "\n",
        "# Import your libraries\n",
        "import pandas as pd\n",
        "import  numpy as np\n",
        "\n",
        "# Start writing code\n",
        "df1=facebook_products\n",
        "df = facebook_sales\n",
        "\n",
        "result = df['product_id'].sort_values().unique()\n",
        "n=0\n",
        "\n",
        "for x in df['product_id'].sort_values().unique():\n",
        "    #print(x)\n",
        "    n= n+1\n",
        "print(n)\n",
        "    \n",
        "\n",
        "\n",
        "\n",
        "\n",
        "#print(np.array.count())\n",
        "\n",
        "#df.count()\n",
        "\n",
        "#result.astype('int64').dtypes.count()\n",
        "\n",
        "#df['product_id'].unique() = df['product_id']\n",
        "#df['product_id'].unique()\n",
        "\n",
        "df1['product_id'].count()\n",
        "\n",
        "((df1['product_id'].count()- n)/df1['product_id'].count())*100\n",
        "\n"
      ],
      "metadata": {
        "id": "4tTf_4HL8bXJ"
      },
      "execution_count": null,
      "outputs": []
    }
  ]
}