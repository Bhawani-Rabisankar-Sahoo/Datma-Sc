{
  "cells": [
    {
      "cell_type": "markdown",
      "metadata": {
        "id": "Ta5VNvjWGmpa"
      },
      "source": [
        "#Customers with Specific Brands ,ID 2071\n"
      ]
    },
    {
      "cell_type": "code",
      "execution_count": null,
      "metadata": {
        "id": "o0Vjdj5UpG9z"
      },
      "outputs": [],
      "source": [
        "\n",
        "#Customers with Specific Brands\n",
        "\n",
        "\n",
        "# Import your libraries\n",
        "\n",
        "import pandas as pd\n",
        "\n",
        "# Start writing code\n",
        "df=facebook_products\n",
        "dfi=facebook_sales\n",
        "#print(df[['brand_name', 'product_id']])\n",
        "\n",
        "df = df.loc[(df['brand_name'] == 'Fort West')   | (df['brand_name'] == 'Golden')] \n",
        "df=df.iloc[0:5]\n",
        "df=df.merge(dfi,how='inner',on='product_id')\n",
        "#df.drop(columns = ['units_sold','date','cost_in_dollars','promotion_id','product_family','product_category','is_low_fat','is_recyclable','product_class'])\n",
        "#df.drop(columns !=['product_id','brand_name','customer_id'])   # this didn't work \n",
        "df.loc[ : , ~df.columns.isin( ['product_id','brand_name','customer_id']) ]\n",
        "df.drop(columns= df.loc[ : , ~df.columns.isin( ['product_id','brand_name','customer_id']) ])\n",
        "\n",
        "\n",
        "\n",
        "\n",
        "    \n",
        "\n",
        "\n"
      ]
    },
    {
      "cell_type": "code",
      "execution_count": null,
      "metadata": {},
      "outputs": [],
      "source": [
        "import "
      ]
    },
    {
      "cell_type": "code",
      "execution_count": null,
      "metadata": {},
      "outputs": [],
      "source": []
    }
  ],
  "metadata": {
    "colab": {
      "collapsed_sections": [],
      "name": "practice1.ipynb",
      "provenance": []
    },
    "kernelspec": {
      "display_name": "Python 3.10.4 64-bit",
      "language": "python",
      "name": "python3"
    },
    "language_info": {
      "name": "python",
      "version": "3.10.4"
    },
    "vscode": {
      "interpreter": {
        "hash": "369f2c481f4da34e4445cda3fffd2e751bd1c4d706f27375911949ba6bb62e1c"
      }
    }
  },
  "nbformat": 4,
  "nbformat_minor": 0
}
