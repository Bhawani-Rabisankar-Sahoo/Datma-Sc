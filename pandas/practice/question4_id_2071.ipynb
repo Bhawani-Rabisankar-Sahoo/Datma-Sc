{
  "nbformat": 4,
  "nbformat_minor": 0,
  "metadata": {
    "colab": {
      "name": "practice1.ipynb",
      "provenance": [],
      "collapsed_sections": []
    },
    "kernelspec": {
      "name": "python3",
      "display_name": "Python 3"
    },
    "language_info": {
      "name": "python"
    }
  },
  "cells": [
    {
      "cell_type": "markdown",
      "source": [
        "#Customers with Specific Brands ,ID 2071\n"
      ],
      "metadata": {
        "id": "Ta5VNvjWGmpa"
      }
    },
    {
      "cell_type": "code",
      "execution_count": null,
      "metadata": {
        "id": "o0Vjdj5UpG9z"
      },
      "outputs": [],
      "source": [
        "\n",
        "#Customers with Specific Brands\n",
        "\n",
        "\n",
        "# Import your libraries\n",
        "\n",
        "import pandas as pd\n",
        "\n",
        "# Start writing code\n",
        "df=facebook_products\n",
        "dfi=facebook_sales\n",
        "#print(df[['brand_name', 'product_id']])\n",
        "\n",
        "df = df.loc[(df['brand_name'] == 'Fort West')   | (df['brand_name'] == 'Golden')] \n",
        "df=df.iloc[0:5]\n",
        "df=df.merge(dfi,how='inner',on='product_id')\n",
        "#df.drop(columns = ['units_sold','date','cost_in_dollars','promotion_id','product_family','product_category','is_low_fat','is_recyclable','product_class'])\n",
        "#df.drop(columns !=['product_id','brand_name','customer_id'])   # this didn't work \n",
        "df.loc[ : , ~df.columns.isin( ['product_id','brand_name','customer_id']) ]\n",
        "df.drop(columns= df.loc[ : , ~df.columns.isin( ['product_id','brand_name','customer_id']) ])\n",
        "\n",
        "\n",
        "\n",
        "\n",
        "    \n",
        "\n",
        "\n"
      ]
    }
  ]
}